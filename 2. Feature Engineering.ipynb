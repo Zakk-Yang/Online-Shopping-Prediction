{
 "cells": [
  {
   "cell_type": "markdown",
   "metadata": {},
   "source": [
    "# Load Pickle"
   ]
  },
  {
   "cell_type": "code",
   "execution_count": 1,
   "metadata": {
    "ExecuteTime": {
     "end_time": "2019-05-19T20:03:44.808833Z",
     "start_time": "2019-05-19T20:03:44.248189Z"
    }
   },
   "outputs": [],
   "source": [
    "import pickle\n",
    "root_wd = '/Users/zakkyang/Documents/Data_Mining/Python/Projects/0_My_Project/Online_Shopper_Prediction/'\n",
    "data= pickle.load(open(root_wd + 'Pickle/all.p', 'rb'))"
   ]
  },
  {
   "cell_type": "code",
   "execution_count": 2,
   "metadata": {
    "ExecuteTime": {
     "end_time": "2019-05-19T20:03:44.815011Z",
     "start_time": "2019-05-19T20:03:44.811601Z"
    }
   },
   "outputs": [],
   "source": [
    "predictors = []"
   ]
  },
  {
   "cell_type": "markdown",
   "metadata": {},
   "source": [
    "# Feature Engineering"
   ]
  },
  {
   "cell_type": "markdown",
   "metadata": {},
   "source": [
    "## Load Libraries"
   ]
  },
  {
   "cell_type": "code",
   "execution_count": 3,
   "metadata": {
    "ExecuteTime": {
     "end_time": "2019-05-19T20:03:44.822153Z",
     "start_time": "2019-05-19T20:03:44.817746Z"
    }
   },
   "outputs": [],
   "source": [
    "import pandas as pd\n",
    "import numpy as np\n",
    "import gc\n",
    "\n",
    "import warnings\n",
    "warnings.filterwarnings('ignore')\n",
    "\n",
    "pd.options.display.max_columns = None\n",
    "pd.options.display.max_rows = 100"
   ]
  },
  {
   "cell_type": "markdown",
   "metadata": {},
   "source": [
    "## Merge nunique"
   ]
  },
  {
   "cell_type": "code",
   "execution_count": 4,
   "metadata": {
    "ExecuteTime": {
     "end_time": "2019-05-19T20:03:44.871057Z",
     "start_time": "2019-05-19T20:03:44.825394Z"
    }
   },
   "outputs": [
    {
     "data": {
      "text/html": [
       "<div>\n",
       "<style scoped>\n",
       "    .dataframe tbody tr th:only-of-type {\n",
       "        vertical-align: middle;\n",
       "    }\n",
       "\n",
       "    .dataframe tbody tr th {\n",
       "        vertical-align: top;\n",
       "    }\n",
       "\n",
       "    .dataframe thead th {\n",
       "        text-align: right;\n",
       "    }\n",
       "</style>\n",
       "<table border=\"1\" class=\"dataframe\">\n",
       "  <thead>\n",
       "    <tr style=\"text-align: right;\">\n",
       "      <th></th>\n",
       "      <th>account_view_pages</th>\n",
       "      <th>account_view_duration</th>\n",
       "      <th>info_view_pages</th>\n",
       "      <th>info_view_duration</th>\n",
       "      <th>ProductRelated</th>\n",
       "      <th>ProductRelated_Duration</th>\n",
       "      <th>BounceRates</th>\n",
       "      <th>ExitRates</th>\n",
       "      <th>PageValues</th>\n",
       "      <th>SpecialDay</th>\n",
       "      <th>Month</th>\n",
       "      <th>OperatingSystems</th>\n",
       "      <th>Browser</th>\n",
       "      <th>Region</th>\n",
       "      <th>TrafficType</th>\n",
       "      <th>VisitorType</th>\n",
       "      <th>Weekend</th>\n",
       "      <th>Revenue</th>\n",
       "    </tr>\n",
       "  </thead>\n",
       "  <tbody>\n",
       "    <tr>\n",
       "      <th>0</th>\n",
       "      <td>0</td>\n",
       "      <td>0.0</td>\n",
       "      <td>0</td>\n",
       "      <td>0.0</td>\n",
       "      <td>1</td>\n",
       "      <td>0.000000</td>\n",
       "      <td>0.20</td>\n",
       "      <td>0.20</td>\n",
       "      <td>0.0</td>\n",
       "      <td>0.0</td>\n",
       "      <td>Feb</td>\n",
       "      <td>1</td>\n",
       "      <td>1</td>\n",
       "      <td>1</td>\n",
       "      <td>1</td>\n",
       "      <td>Returning_Visitor</td>\n",
       "      <td>0</td>\n",
       "      <td>0</td>\n",
       "    </tr>\n",
       "    <tr>\n",
       "      <th>1</th>\n",
       "      <td>0</td>\n",
       "      <td>0.0</td>\n",
       "      <td>0</td>\n",
       "      <td>0.0</td>\n",
       "      <td>2</td>\n",
       "      <td>64.000000</td>\n",
       "      <td>0.00</td>\n",
       "      <td>0.10</td>\n",
       "      <td>0.0</td>\n",
       "      <td>0.0</td>\n",
       "      <td>Feb</td>\n",
       "      <td>2</td>\n",
       "      <td>2</td>\n",
       "      <td>1</td>\n",
       "      <td>2</td>\n",
       "      <td>Returning_Visitor</td>\n",
       "      <td>0</td>\n",
       "      <td>0</td>\n",
       "    </tr>\n",
       "    <tr>\n",
       "      <th>2</th>\n",
       "      <td>0</td>\n",
       "      <td>0.0</td>\n",
       "      <td>0</td>\n",
       "      <td>0.0</td>\n",
       "      <td>1</td>\n",
       "      <td>0.000000</td>\n",
       "      <td>0.20</td>\n",
       "      <td>0.20</td>\n",
       "      <td>0.0</td>\n",
       "      <td>0.0</td>\n",
       "      <td>Feb</td>\n",
       "      <td>4</td>\n",
       "      <td>1</td>\n",
       "      <td>9</td>\n",
       "      <td>3</td>\n",
       "      <td>Returning_Visitor</td>\n",
       "      <td>0</td>\n",
       "      <td>0</td>\n",
       "    </tr>\n",
       "    <tr>\n",
       "      <th>3</th>\n",
       "      <td>0</td>\n",
       "      <td>0.0</td>\n",
       "      <td>0</td>\n",
       "      <td>0.0</td>\n",
       "      <td>2</td>\n",
       "      <td>2.666667</td>\n",
       "      <td>0.05</td>\n",
       "      <td>0.14</td>\n",
       "      <td>0.0</td>\n",
       "      <td>0.0</td>\n",
       "      <td>Feb</td>\n",
       "      <td>3</td>\n",
       "      <td>2</td>\n",
       "      <td>2</td>\n",
       "      <td>4</td>\n",
       "      <td>Returning_Visitor</td>\n",
       "      <td>0</td>\n",
       "      <td>0</td>\n",
       "    </tr>\n",
       "    <tr>\n",
       "      <th>4</th>\n",
       "      <td>0</td>\n",
       "      <td>0.0</td>\n",
       "      <td>0</td>\n",
       "      <td>0.0</td>\n",
       "      <td>10</td>\n",
       "      <td>627.500000</td>\n",
       "      <td>0.02</td>\n",
       "      <td>0.05</td>\n",
       "      <td>0.0</td>\n",
       "      <td>0.0</td>\n",
       "      <td>Feb</td>\n",
       "      <td>3</td>\n",
       "      <td>3</td>\n",
       "      <td>1</td>\n",
       "      <td>4</td>\n",
       "      <td>Returning_Visitor</td>\n",
       "      <td>1</td>\n",
       "      <td>0</td>\n",
       "    </tr>\n",
       "  </tbody>\n",
       "</table>\n",
       "</div>"
      ],
      "text/plain": [
       "   account_view_pages  account_view_duration  info_view_pages  \\\n",
       "0                   0                    0.0                0   \n",
       "1                   0                    0.0                0   \n",
       "2                   0                    0.0                0   \n",
       "3                   0                    0.0                0   \n",
       "4                   0                    0.0                0   \n",
       "\n",
       "   info_view_duration  ProductRelated  ProductRelated_Duration  BounceRates  \\\n",
       "0                 0.0               1                 0.000000         0.20   \n",
       "1                 0.0               2                64.000000         0.00   \n",
       "2                 0.0               1                 0.000000         0.20   \n",
       "3                 0.0               2                 2.666667         0.05   \n",
       "4                 0.0              10               627.500000         0.02   \n",
       "\n",
       "   ExitRates  PageValues  SpecialDay Month OperatingSystems Browser Region  \\\n",
       "0       0.20         0.0         0.0   Feb                1       1      1   \n",
       "1       0.10         0.0         0.0   Feb                2       2      1   \n",
       "2       0.20         0.0         0.0   Feb                4       1      9   \n",
       "3       0.14         0.0         0.0   Feb                3       2      2   \n",
       "4       0.05         0.0         0.0   Feb                3       3      1   \n",
       "\n",
       "  TrafficType        VisitorType  Weekend  Revenue  \n",
       "0           1  Returning_Visitor        0        0  \n",
       "1           2  Returning_Visitor        0        0  \n",
       "2           3  Returning_Visitor        0        0  \n",
       "3           4  Returning_Visitor        0        0  \n",
       "4           4  Returning_Visitor        1        0  "
      ]
     },
     "execution_count": 4,
     "metadata": {},
     "output_type": "execute_result"
    }
   ],
   "source": [
    "data.head()"
   ]
  },
  {
   "cell_type": "code",
   "execution_count": 5,
   "metadata": {
    "ExecuteTime": {
     "end_time": "2019-05-19T20:03:44.879096Z",
     "start_time": "2019-05-19T20:03:44.873528Z"
    }
   },
   "outputs": [],
   "source": [
    "def merge_nunique(df, columns_groupby, column, new_column_name, type='uint64'):\n",
    "    add = pd.DataFrame(df.groupby(columns_groupby)[column].nunique()).reset_index()\n",
    "    add.columns = columns_groupby + [new_column_name]\n",
    "    df = df.merge(add, on=columns_groupby, how=\"left\")\n",
    "    df[new_column_name] = df[new_column_name].astype(type)\n",
    "    predictors.append(new_column_name)\n",
    "    return df"
   ]
  },
  {
   "cell_type": "code",
   "execution_count": 6,
   "metadata": {
    "ExecuteTime": {
     "end_time": "2019-05-19T20:03:45.028081Z",
     "start_time": "2019-05-19T20:03:44.883165Z"
    }
   },
   "outputs": [
    {
     "data": {
      "text/plain": [
       "168"
      ]
     },
     "execution_count": 6,
     "metadata": {},
     "output_type": "execute_result"
    }
   ],
   "source": [
    "data = merge_nunique(data, ['OperatingSystems'], 'Browser', 'nunique_Browser_gb_OS', 'uint32')\n",
    "data = merge_nunique(data, ['OperatingSystems', 'Browser'], 'Region', 'nunique_region_gb_OB', 'uint32')\n",
    "data = merge_nunique(data, ['VisitorType'], 'OperatingSystems', 'nunique_OS_gb_VisitorType', 'uint32')\n",
    "data = merge_nunique(data, ['VisitorType', 'OperatingSystems'], 'Browser', 'nunique_Browser_gb_VO', 'uint32')\n",
    "data = merge_nunique(data, ['VisitorType'], 'TrafficType', 'nunique_TrafficType_gb_VisitorType', 'uint32')\n",
    "gc.collect()"
   ]
  },
  {
   "cell_type": "code",
   "execution_count": 7,
   "metadata": {
    "ExecuteTime": {
     "end_time": "2019-05-19T20:03:45.039082Z",
     "start_time": "2019-05-19T20:03:45.031061Z"
    }
   },
   "outputs": [
    {
     "data": {
      "text/plain": [
       "Index(['account_view_pages', 'account_view_duration', 'info_view_pages',\n",
       "       'info_view_duration', 'ProductRelated', 'ProductRelated_Duration',\n",
       "       'BounceRates', 'ExitRates', 'PageValues', 'SpecialDay', 'Month',\n",
       "       'OperatingSystems', 'Browser', 'Region', 'TrafficType', 'VisitorType',\n",
       "       'Weekend', 'Revenue', 'nunique_Browser_gb_OS', 'nunique_region_gb_OB',\n",
       "       'nunique_OS_gb_VisitorType', 'nunique_Browser_gb_VO',\n",
       "       'nunique_TrafficType_gb_VisitorType'],\n",
       "      dtype='object')"
      ]
     },
     "execution_count": 7,
     "metadata": {},
     "output_type": "execute_result"
    }
   ],
   "source": [
    "data.columns"
   ]
  },
  {
   "cell_type": "markdown",
   "metadata": {
    "ExecuteTime": {
     "end_time": "2019-05-17T19:57:49.361741Z",
     "start_time": "2019-05-17T19:57:48.786021Z"
    }
   },
   "source": [
    "## Merge Cumulative Counts"
   ]
  },
  {
   "cell_type": "code",
   "execution_count": 8,
   "metadata": {
    "ExecuteTime": {
     "end_time": "2019-05-19T20:03:45.046711Z",
     "start_time": "2019-05-19T20:03:45.041996Z"
    }
   },
   "outputs": [],
   "source": [
    "def merge_cumcount(df, columns_groupby, column, new_column_name, type='uint64'):\n",
    "    df[new_column_name] = df.groupby(columns_groupby)[column].cumcount().values.astype(type)\n",
    "    predictors.append(new_column_name)\n",
    "    return df"
   ]
  },
  {
   "cell_type": "code",
   "execution_count": 9,
   "metadata": {
    "ExecuteTime": {
     "end_time": "2019-05-19T20:03:45.096338Z",
     "start_time": "2019-05-19T20:03:45.050215Z"
    }
   },
   "outputs": [
    {
     "data": {
      "text/plain": [
       "14"
      ]
     },
     "execution_count": 9,
     "metadata": {},
     "output_type": "execute_result"
    }
   ],
   "source": [
    "data = merge_cumcount(data, ['VisitorType'], 'TrafficType', 'cumcount_TrafficType_gb_VisitorType', 'uint32');\n",
    "data = merge_cumcount(data, ['OperatingSystems', 'Browser'], 'Region', 'cumcount__Region_gb_OB', 'uint32');\n",
    "data = merge_cumcount(data, ['VisitorType'], 'PageValues', 'cumcount_PageValues_gb_VisitorType', 'float32')\n",
    "\n",
    "gc.collect()"
   ]
  },
  {
   "cell_type": "markdown",
   "metadata": {},
   "source": [
    "## Merge Count"
   ]
  },
  {
   "cell_type": "code",
   "execution_count": 10,
   "metadata": {
    "ExecuteTime": {
     "end_time": "2019-05-19T20:03:45.104630Z",
     "start_time": "2019-05-19T20:03:45.098735Z"
    }
   },
   "outputs": [],
   "source": [
    "#similar to merge_unique\n",
    "def merge_count(df, columns_groupby, new_column_name, type='uint64'):\n",
    "    add = pd.DataFrame(df.groupby(columns_groupby).size()).reset_index()\n",
    "    add.columns = columns_groupby + [new_column_name]\n",
    "    df = df.merge(add, on=columns_groupby, how=\"left\")\n",
    "    df[new_column_name] = df[new_column_name].astype(type)\n",
    "    predictors.append(new_column_name)\n",
    "    return df"
   ]
  },
  {
   "cell_type": "code",
   "execution_count": 11,
   "metadata": {
    "ExecuteTime": {
     "end_time": "2019-05-19T20:03:45.118977Z",
     "start_time": "2019-05-19T20:03:45.108765Z"
    }
   },
   "outputs": [
    {
     "data": {
      "text/plain": [
       "Index(['account_view_pages', 'account_view_duration', 'info_view_pages',\n",
       "       'info_view_duration', 'ProductRelated', 'ProductRelated_Duration',\n",
       "       'BounceRates', 'ExitRates', 'PageValues', 'SpecialDay', 'Month',\n",
       "       'OperatingSystems', 'Browser', 'Region', 'TrafficType', 'VisitorType',\n",
       "       'Weekend', 'Revenue', 'nunique_Browser_gb_OS', 'nunique_region_gb_OB',\n",
       "       'nunique_OS_gb_VisitorType', 'nunique_Browser_gb_VO',\n",
       "       'nunique_TrafficType_gb_VisitorType',\n",
       "       'cumcount_TrafficType_gb_VisitorType', 'cumcount__Region_gb_OB',\n",
       "       'cumcount_PageValues_gb_VisitorType'],\n",
       "      dtype='object')"
      ]
     },
     "execution_count": 11,
     "metadata": {},
     "output_type": "execute_result"
    }
   ],
   "source": [
    "data.columns"
   ]
  },
  {
   "cell_type": "code",
   "execution_count": 12,
   "metadata": {
    "ExecuteTime": {
     "end_time": "2019-05-19T20:03:45.204931Z",
     "start_time": "2019-05-19T20:03:45.121774Z"
    }
   },
   "outputs": [
    {
     "data": {
      "text/plain": [
       "56"
      ]
     },
     "execution_count": 12,
     "metadata": {},
     "output_type": "execute_result"
    }
   ],
   "source": [
    "data = merge_count(data, ['Month', 'SpecialDay'], 'count_gb_Month_Day', 'uint32');\n",
    "data = merge_count(data, ['VisitorType', 'TrafficType', 'Region'], 'count_gb_VT_TT_region', 'uint32');\n",
    "\n",
    "gc.collect()"
   ]
  },
  {
   "cell_type": "markdown",
   "metadata": {},
   "source": [
    "## Merge Variance"
   ]
  },
  {
   "cell_type": "code",
   "execution_count": 13,
   "metadata": {
    "ExecuteTime": {
     "end_time": "2019-05-19T20:03:45.216844Z",
     "start_time": "2019-05-19T20:03:45.208925Z"
    }
   },
   "outputs": [],
   "source": [
    "def merge_var(df, columns_groupby, column, new_column_name, type='float64'):\n",
    "    add = pd.DataFrame(df.groupby(columns_groupby)[column].var()).reset_index()\n",
    "    add.columns = columns_groupby + [new_column_name]\n",
    "    df = df.merge(add, on=columns_groupby, how=\"left\")\n",
    "    df[new_column_name] = df[new_column_name].astype(type)\n",
    "    predictors.append(new_column_name)\n",
    "    return df"
   ]
  },
  {
   "cell_type": "code",
   "execution_count": 14,
   "metadata": {
    "ExecuteTime": {
     "end_time": "2019-05-19T20:03:45.261041Z",
     "start_time": "2019-05-19T20:03:45.221928Z"
    }
   },
   "outputs": [],
   "source": [
    "data = merge_var(data, ['VisitorType', 'OperatingSystems', 'Browser'], 'SpecialDay', 'var_day_gb_VT_OS_BW', 'float32')"
   ]
  },
  {
   "cell_type": "markdown",
   "metadata": {},
   "source": [
    "## Merge Sum"
   ]
  },
  {
   "cell_type": "code",
   "execution_count": 15,
   "metadata": {
    "ExecuteTime": {
     "end_time": "2019-05-19T20:03:45.268349Z",
     "start_time": "2019-05-19T20:03:45.263603Z"
    }
   },
   "outputs": [],
   "source": [
    "def merge_sum(df, columns_groupby, column, new_column_name, type='float64'):\n",
    "    add = pd.DataFrame(df.groupby(columns_groupby)[column].sum()).reset_index()\n",
    "    add.columns = columns_groupby + [new_column_name]\n",
    "    df = df.merge(add, on=columns_groupby, how=\"left\")\n",
    "    df[new_column_name] = df[new_column_name].astype(type)\n",
    "    # predictors.append(new_column_name)  # bug: twice\n",
    "    return df"
   ]
  },
  {
   "cell_type": "code",
   "execution_count": 16,
   "metadata": {
    "ExecuteTime": {
     "end_time": "2019-05-19T20:03:45.293665Z",
     "start_time": "2019-05-19T20:03:45.270487Z"
    }
   },
   "outputs": [],
   "source": [
    "data = merge_sum(data, ['VisitorType'], 'PageValues', 'sum_PageValues_gb_VisitorType', 'float32')"
   ]
  },
  {
   "cell_type": "markdown",
   "metadata": {},
   "source": [
    "## One-Hot Encoding"
   ]
  },
  {
   "cell_type": "code",
   "execution_count": 17,
   "metadata": {
    "ExecuteTime": {
     "end_time": "2019-05-19T20:03:45.357677Z",
     "start_time": "2019-05-19T20:03:45.296222Z"
    }
   },
   "outputs": [],
   "source": [
    "#one-hot coding to Month\n",
    "def encode_onehot(df, column_name):\n",
    "    df_onehot = pd.get_dummies(df[column_name], prefix=column_name)\n",
    "    df_all = pd.concat([df.drop([column_name], axis=1), df_onehot], axis=1)\n",
    "    predictors.append(column_name)\n",
    "    return df_all\n",
    "\n",
    "data=encode_onehot(data, 'Month')\n",
    "data=encode_onehot(data, 'Browser')\n",
    "data=encode_onehot(data, 'Region')\n",
    "data=encode_onehot(data, 'VisitorType')"
   ]
  },
  {
   "cell_type": "code",
   "execution_count": 18,
   "metadata": {
    "ExecuteTime": {
     "end_time": "2019-05-19T20:03:45.366817Z",
     "start_time": "2019-05-19T20:03:45.361578Z"
    }
   },
   "outputs": [
    {
     "data": {
      "text/plain": [
       "(12330, 61)"
      ]
     },
     "execution_count": 18,
     "metadata": {},
     "output_type": "execute_result"
    }
   ],
   "source": [
    "data.shape"
   ]
  },
  {
   "cell_type": "code",
   "execution_count": 19,
   "metadata": {
    "ExecuteTime": {
     "end_time": "2019-05-19T20:03:45.374479Z",
     "start_time": "2019-05-19T20:03:45.369081Z"
    },
    "scrolled": false
   },
   "outputs": [
    {
     "data": {
      "text/plain": [
       "['nunique_Browser_gb_OS',\n",
       " 'nunique_region_gb_OB',\n",
       " 'nunique_OS_gb_VisitorType',\n",
       " 'nunique_Browser_gb_VO',\n",
       " 'nunique_TrafficType_gb_VisitorType',\n",
       " 'cumcount_TrafficType_gb_VisitorType',\n",
       " 'cumcount__Region_gb_OB',\n",
       " 'cumcount_PageValues_gb_VisitorType',\n",
       " 'count_gb_Month_Day',\n",
       " 'count_gb_VT_TT_region',\n",
       " 'var_day_gb_VT_OS_BW',\n",
       " 'Month',\n",
       " 'Browser',\n",
       " 'Region',\n",
       " 'VisitorType']"
      ]
     },
     "execution_count": 19,
     "metadata": {},
     "output_type": "execute_result"
    }
   ],
   "source": [
    "predictors"
   ]
  },
  {
   "cell_type": "markdown",
   "metadata": {},
   "source": [
    "## Drop Features"
   ]
  },
  {
   "cell_type": "code",
   "execution_count": 20,
   "metadata": {
    "ExecuteTime": {
     "end_time": "2019-05-19T20:03:45.380222Z",
     "start_time": "2019-05-19T20:03:45.377001Z"
    }
   },
   "outputs": [],
   "source": [
    "drop_features = ['TrafficType', 'OperatingSystems']"
   ]
  },
  {
   "cell_type": "code",
   "execution_count": 21,
   "metadata": {
    "ExecuteTime": {
     "end_time": "2019-05-19T20:03:45.392439Z",
     "start_time": "2019-05-19T20:03:45.382919Z"
    }
   },
   "outputs": [],
   "source": [
    "data.drop(columns=drop_features, inplace=True)"
   ]
  },
  {
   "cell_type": "markdown",
   "metadata": {},
   "source": [
    "# Save Pickle"
   ]
  },
  {
   "cell_type": "code",
   "execution_count": 22,
   "metadata": {
    "ExecuteTime": {
     "end_time": "2019-05-19T20:03:45.407178Z",
     "start_time": "2019-05-19T20:03:45.394942Z"
    }
   },
   "outputs": [],
   "source": [
    "pickle.dump(data, open(root_wd + '/Pickle/feature_completed.p', 'wb'))"
   ]
  },
  {
   "cell_type": "code",
   "execution_count": null,
   "metadata": {},
   "outputs": [],
   "source": []
  }
 ],
 "metadata": {
  "hide_input": false,
  "kernelspec": {
   "display_name": "Python 3",
   "language": "python",
   "name": "python3"
  },
  "language_info": {
   "codemirror_mode": {
    "name": "ipython",
    "version": 3
   },
   "file_extension": ".py",
   "mimetype": "text/x-python",
   "name": "python",
   "nbconvert_exporter": "python",
   "pygments_lexer": "ipython3",
   "version": "3.6.8"
  },
  "toc": {
   "base_numbering": 1,
   "nav_menu": {},
   "number_sections": true,
   "sideBar": true,
   "skip_h1_title": false,
   "title_cell": "Table of Contents",
   "title_sidebar": "Contents",
   "toc_cell": false,
   "toc_position": {},
   "toc_section_display": true,
   "toc_window_display": true
  }
 },
 "nbformat": 4,
 "nbformat_minor": 2
}
